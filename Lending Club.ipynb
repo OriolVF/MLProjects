{
 "cells": [
  {
   "cell_type": "markdown",
   "metadata": {},
   "source": [
    "First of all we want to clean some of the data, doing the following steps:\n",
    "\n",
    "    - Removing the first line: It contains the extraneous text Notes offered by Prospectus\n",
    "    (https://www.lendingclub.com/info/prospectus.action) instead  of the column titles, which prevents the dataset from being\n",
    "    parsed by the pandas library properly\n",
    "    \n",
    "    - Removing the desc column: which contains a long text explanation for each loan.\n",
    "    \n",
    "    - Removing the url column: which contains a link to each loan on Lending Club which can only be accessed with an investor\n",
    "    account\n",
    "    \n",
    "    - Removing all columns containing more than 50% missing values: which allows us to move faster since we can spend less time\n",
    "    trying to fill these values"
   ]
  },
  {
   "cell_type": "code",
   "execution_count": 1,
   "metadata": {
    "collapsed": false
   },
   "outputs": [
    {
     "name": "stderr",
     "output_type": "stream",
     "text": [
      "C:\\Anaconda2\\lib\\site-packages\\IPython\\core\\interactiveshell.py:2902: DtypeWarning: Columns (0,47) have mixed types. Specify dtype option on import or set low_memory=False.\n",
      "  interactivity=interactivity, compiler=compiler, result=result)\n"
     ]
    }
   ],
   "source": [
    "import pandas as pd\n",
    "loans_2007 = pd.read_csv('LoanStats3a.csv', skiprows=1)\n",
    "\n",
    "loans_2007 = loans_2007.drop(['desc', 'url'],axis=1)\n",
    "\n",
    "half_count = len(loans_2007) / 2\n",
    "loans_2007 = loans_2007.dropna(thresh=half_count, axis=1)\n",
    "\n",
    "loans_2007.to_csv('loans_2007.csv', index=False)\n",
    "#loans_2007.head()"
   ]
  },
  {
   "cell_type": "code",
   "execution_count": 2,
   "metadata": {
    "collapsed": false
   },
   "outputs": [
    {
     "name": "stdout",
     "output_type": "stream",
     "text": [
      "id                                1077501\n",
      "member_id                      1.2966e+06\n",
      "loan_amnt                            5000\n",
      "funded_amnt                          5000\n",
      "funded_amnt_inv                      4975\n",
      "term                            36 months\n",
      "int_rate                           10.65%\n",
      "installment                        162.87\n",
      "grade                                   B\n",
      "sub_grade                              B2\n",
      "emp_title                             NaN\n",
      "emp_length                      10+ years\n",
      "home_ownership                       RENT\n",
      "annual_inc                          24000\n",
      "verification_status              Verified\n",
      "issue_d                          Dec-2011\n",
      "loan_status                    Fully Paid\n",
      "pymnt_plan                              n\n",
      "purpose                       credit_card\n",
      "title                            Computer\n",
      "zip_code                            860xx\n",
      "addr_state                             AZ\n",
      "dti                                 27.65\n",
      "delinq_2yrs                             0\n",
      "earliest_cr_line                 Jan-1985\n",
      "inq_last_6mths                          1\n",
      "open_acc                                3\n",
      "pub_rec                                 0\n",
      "revol_bal                           13648\n",
      "revol_util                          83.7%\n",
      "total_acc                               9\n",
      "initial_list_status                     f\n",
      "out_prncp                               0\n",
      "out_prncp_inv                           0\n",
      "total_pymnt                       5863.16\n",
      "total_pymnt_inv                   5833.84\n",
      "total_rec_prncp                      5000\n",
      "total_rec_int                      863.16\n",
      "total_rec_late_fee                      0\n",
      "recoveries                              0\n",
      "collection_recovery_fee                 0\n",
      "last_pymnt_d                     Jan-2015\n",
      "last_pymnt_amnt                    171.62\n",
      "last_credit_pull_d               Jul-2016\n",
      "collections_12_mths_ex_med              0\n",
      "policy_code                             1\n",
      "application_type               INDIVIDUAL\n",
      "acc_now_delinq                          0\n",
      "chargeoff_within_12_mths                0\n",
      "delinq_amnt                             0\n",
      "pub_rec_bankruptcies                    0\n",
      "tax_liens                               0\n",
      "Name: 0, dtype: object\n",
      "52\n"
     ]
    },
    {
     "name": "stderr",
     "output_type": "stream",
     "text": [
      "C:\\Anaconda2\\lib\\site-packages\\IPython\\core\\interactiveshell.py:2902: DtypeWarning: Columns (0) have mixed types. Specify dtype option on import or set low_memory=False.\n",
      "  interactivity=interactivity, compiler=compiler, result=result)\n"
     ]
    }
   ],
   "source": [
    "loans_2007 = pd.read_csv(\"loans_2007.csv\")\n",
    "loans_2007.drop_duplicates()\n",
    "print(loans_2007.iloc[0])\n",
    "print(loans_2007.shape[1])"
   ]
  },
  {
   "cell_type": "markdown",
   "metadata": {},
   "source": [
    "Understanding the columns (features):\n",
    "We want to pay attention to any features that:\n",
    "    - Leak information from the future (after the loan has already been funded)\n",
    "    - Don't affect a borrower's ability to pay back a loan (e.g. a randomly generated ID value by Lending Club)\n",
    "    - Formatted poorly and need to be cleaned up\n",
    "    - Require more data or a lot of processing to turn into a useful feature\n",
    "    - Contain redundant information\n",
    "We need to especially pay attention to data leakage, since it can cause our model to overfit. This is because the model would be using data about the target column that wouldn't be available when we're using the model on future loans.\n",
    "\n",
    "Columns to remove:\n",
    "    - id: randomly generated field by Lending Club for unique identification purposes only\n",
    "    - member_id: also a randomly generated field by Lending Club for unique identification purposes only\n",
    "    - funded_amnt: leaks data from the future (after the loan is already started to be funded)\n",
    "    - funded_amnt_inv: also leaks data from the future (after the loan is already started to be funded)\n",
    "    - grade: contains redundant information as the interest rate column (int_rate)\n",
    "    - sub_grade: also contains redundant information as the interest rate column (int_rate)\n",
    "    - emp_title: requires other data and a lot of processing to potentially be useful\n",
    "    - issue_d: leaks data from the future (after the loan is already completed funded)\n",
    "    - zip_code: redundant with the addr_state column since only the first 3 digits of the 5 digit zip code are visible (which\n",
    "      only can be used to identify the state the borrower lives in)\n",
    "    - out_prncp: leaks data from the future, (after the loan already started to be paid off)\n",
    "    - out_prncp_inv: also leaks data from the future, (after the loan already started to be paid off)\n",
    "    - total_pymnt: also leaks data from the future, (after the loan already started to be paid off)\n",
    "    - total_pymnt_inv: also leaks data from the future, (after the loan already started to be paid off)\n",
    "    - total_rec_prncp: also leaks data from the future, (after the loan already started to be paid off)\n",
    "    - total_rec_int: leaks data from the future, (after the loan already started to be paid off),\n",
    "    - total_rec_late_fee: also leaks data from the future, (after the loan already started to be paid off),\n",
    "    - recoveries: also leaks data from the future, (after the loan already started to be paid off),\n",
    "    - collection_recovery_fee: also leaks data from the future, (after the loan already started to be paid off),\n",
    "    - last_pymnt_d: also leaks data from the future, (after the loan already started to be paid off),\n",
    "    - last_pymnt_amnt: also leaks data from the future, (after the loan already started to be paid off)."
   ]
  },
  {
   "cell_type": "code",
   "execution_count": 3,
   "metadata": {
    "collapsed": false
   },
   "outputs": [
    {
     "name": "stdout",
     "output_type": "stream",
     "text": [
      "First row: \n",
      "loan_amnt                            5000\n",
      "term                            36 months\n",
      "int_rate                           10.65%\n",
      "installment                        162.87\n",
      "emp_length                      10+ years\n",
      "home_ownership                       RENT\n",
      "annual_inc                          24000\n",
      "verification_status              Verified\n",
      "loan_status                    Fully Paid\n",
      "purpose                       credit_card\n",
      "title                            Computer\n",
      "addr_state                             AZ\n",
      "dti                                 27.65\n",
      "delinq_2yrs                             0\n",
      "earliest_cr_line                 Jan-1985\n",
      "inq_last_6mths                          1\n",
      "open_acc                                3\n",
      "pub_rec                                 0\n",
      "revol_bal                           13648\n",
      "revol_util                          83.7%\n",
      "total_acc                               9\n",
      "initial_list_status                     f\n",
      "last_credit_pull_d               Jul-2016\n",
      "collections_12_mths_ex_med              0\n",
      "policy_code                             1\n",
      "application_type               INDIVIDUAL\n",
      "acc_now_delinq                          0\n",
      "chargeoff_within_12_mths                0\n",
      "delinq_amnt                             0\n",
      "pub_rec_bankruptcies                    0\n",
      "tax_liens                               0\n",
      "Name: 0, dtype: object\n",
      "____________________________________\n",
      "Number of columns: 31\n"
     ]
    }
   ],
   "source": [
    "\n",
    "loans_2007 = loans_2007.drop([\"id\", \"member_id\", \"funded_amnt\", \"funded_amnt_inv\", \"grade\", \"sub_grade\", \"emp_title\", \"issue_d\"], axis=1)\n",
    "loans_2007 = loans_2007.drop([\"zip_code\", \"out_prncp\", \"out_prncp_inv\", \"total_pymnt\", \"total_pymnt_inv\", \"total_rec_prncp\"], axis=1)\n",
    "loans_2007 = loans_2007.drop([\"total_rec_int\", \"total_rec_late_fee\",\"pymnt_plan\", \"recoveries\", \"collection_recovery_fee\", \"last_pymnt_d\", \"last_pymnt_amnt\"], axis=1)\n",
    "print(\"First row: \")\n",
    "print(loans_2007.iloc[0])\n",
    "print (\"____________________________________\")\n",
    "\n",
    "print( \"Number of columns: \" + str(loans_2007.shape[1]))\n"
   ]
  },
  {
   "cell_type": "markdown",
   "metadata": {},
   "source": [
    "Just by becoming familiar with the columns in the dataset, we were able to reduce the number of columns from 52 to 34 columns. \n",
    "\n",
    "We now need to decide on a target column that we want to use for modeling.\n",
    "Our problem can be seen as a binary classificaiton problem with 2 possible outcomes. 0 the loan is not paid and 1 the loan is paid. To do so we can use the loan_status column, since it's the only column that directly describes if a loan was paid off on time, had delayed payments, or was defaulted on the borrower. This column contains text values and we need to convert it to a numerical one for training a model. "
   ]
  },
  {
   "cell_type": "code",
   "execution_count": 4,
   "metadata": {
    "collapsed": false
   },
   "outputs": [
    {
     "data": {
      "text/plain": [
       "Fully Paid                                             33314\n",
       "Charged Off                                             5640\n",
       "Does not meet the credit policy. Status:Fully Paid      1988\n",
       "Current                                                  781\n",
       "Does not meet the credit policy. Status:Charged Off      761\n",
       "In Grace Period                                           22\n",
       "Late (31-120 days)                                        17\n",
       "Late (16-30 days)                                          8\n",
       "Default                                                    4\n",
       "Name: loan_status, dtype: int64"
      ]
     },
     "execution_count": 4,
     "metadata": {},
     "output_type": "execute_result"
    }
   ],
   "source": [
    "loans_2007['loan_status'].value_counts()"
   ]
  },
  {
   "cell_type": "markdown",
   "metadata": {},
   "source": [
    "Description of the values: \n",
    "Fully Paid\t33136\tLoan has been fully paid off.\n",
    "Charged Off:\t5634\tLoan for which there is no longer a reasonable expectation of further payments.\n",
    "Does not meet the credit policy. Status:Fully Paid\t1988\tWhile the loan was paid off, the loan application today would no longer meet the credit policy and wouldn't be approved on to the marketplace.\n",
    "Does not meet the credit policy. Status:Charged Off\t761\tWhile the loan was charged off, the loan application today would no longer meet the credit policy and wouldn't be approved on to the marketplace.\n",
    "In Grace Period\t20\tThe loan is past due but still in the grace period of 15 days.\n",
    "Late (16-30 days)\t8\tLoan hasn't been paid in 16 to 30 days (late on the current payment).\n",
    "Late (31-120 days)\t24\tLoan hasn't been paid in 31 to 120 days (late on the current payment).\n",
    "Current\t961\tLoan is up to date on current payments.\n",
    "Default\t3\tLoan is defaulted on and no payment has been made for more than 121 days."
   ]
  },
  {
   "cell_type": "markdown",
   "metadata": {},
   "source": [
    "From the investor's perspective, we're interested in trying to predict which loans will be paid off on time and which ones won't be. Only the Fully Paid and Charged Off values describe the final outcome of the loan. \n",
    "\n",
    "Since we're interesting in being able to predict which of these 2 values a loan will fall under, we can treat the problem as a binary classification one. Let's remove all the loans that don't contain either Fully Paid and Charged Off as the loan's status and then transform the Fully Paid values to 1 for the positive case and the Charged Off values to 0 for the negative case."
   ]
  },
  {
   "cell_type": "code",
   "execution_count": 5,
   "metadata": {
    "collapsed": true
   },
   "outputs": [],
   "source": [
    "loans_2007 = loans_2007[(loans_2007['loan_status'] == \"Fully Paid\") | (loans_2007['loan_status'] == \"Charged Off\")]\n",
    "\n",
    "status_replace = {\n",
    "    \"loan_status\" : {\n",
    "        \"Fully Paid\": 1,\n",
    "        \"Charged Off\": 0,\n",
    "    }\n",
    "}\n",
    "\n",
    "loans_2007 = loans_2007.replace(status_replace)"
   ]
  },
  {
   "cell_type": "markdown",
   "metadata": {},
   "source": [
    "We want to remove columns that have only 1 unique value (or nan) because they don't add any value when modeling and will make our training slower"
   ]
  },
  {
   "cell_type": "code",
   "execution_count": 6,
   "metadata": {
    "collapsed": false
   },
   "outputs": [
    {
     "name": "stdout",
     "output_type": "stream",
     "text": [
      "['initial_list_status', 'collections_12_mths_ex_med', 'policy_code', 'application_type', 'acc_now_delinq', 'chargeoff_within_12_mths', 'delinq_amnt', 'tax_liens']\n"
     ]
    }
   ],
   "source": [
    "orig_columns = loans_2007.columns\n",
    "drop_columns = []\n",
    "for col in orig_columns:\n",
    "    col_series = loans_2007[col].dropna().unique()\n",
    "    if len(col_series) == 1:\n",
    "        drop_columns.append(col)\n",
    "loans_2007 = loans_2007.drop(drop_columns, axis=1)\n",
    "print(drop_columns)"
   ]
  },
  {
   "cell_type": "markdown",
   "metadata": {},
   "source": [
    "Now we have to deal with columns with missing values, mathematics underlying machine learning models assumes that the data is numerical and contains no missing values."
   ]
  },
  {
   "cell_type": "code",
   "execution_count": 7,
   "metadata": {
    "collapsed": false
   },
   "outputs": [
    {
     "name": "stdout",
     "output_type": "stream",
     "text": [
      "loan_amnt                 0\n",
      "term                      0\n",
      "int_rate                  0\n",
      "installment               0\n",
      "emp_length                0\n",
      "home_ownership            0\n",
      "annual_inc                0\n",
      "verification_status       0\n",
      "loan_status               0\n",
      "purpose                   0\n",
      "title                    10\n",
      "addr_state                0\n",
      "dti                       0\n",
      "delinq_2yrs               0\n",
      "earliest_cr_line          0\n",
      "inq_last_6mths            0\n",
      "open_acc                  0\n",
      "pub_rec                   0\n",
      "revol_bal                 0\n",
      "revol_util               50\n",
      "total_acc                 0\n",
      "last_credit_pull_d        2\n",
      "pub_rec_bankruptcies    697\n",
      "dtype: int64\n"
     ]
    }
   ],
   "source": [
    "null_counts=[]\n",
    "null_counts = loans_2007.isnull().sum()\n",
    "print(null_counts)"
   ]
  },
  {
   "cell_type": "markdown",
   "metadata": {},
   "source": [
    "We have 3 columns with less than 50 null values and we have one column with 697 null values. There different strategies to handle null values, but for this case we will:\n",
    "    - Remove entire columns with more than 1% of null values\n",
    "    - Remove rows with null values"
   ]
  },
  {
   "cell_type": "code",
   "execution_count": 8,
   "metadata": {
    "collapsed": false
   },
   "outputs": [
    {
     "name": "stdout",
     "output_type": "stream",
     "text": [
      "object     11\n",
      "float64    10\n",
      "int64       1\n",
      "dtype: int64\n"
     ]
    }
   ],
   "source": [
    "loans_2007 = loans_2007.drop(\"pub_rec_bankruptcies\", axis=1)\n",
    "loans = loans_2007.dropna(axis=0)\n",
    "print(loans.dtypes.value_counts())"
   ]
  },
  {
   "cell_type": "markdown",
   "metadata": {},
   "source": [
    "Now we need to handle non numerical types. Machine learning algorithms can not handle non numerical types so we need to transform those values.\n"
   ]
  },
  {
   "cell_type": "code",
   "execution_count": 9,
   "metadata": {
    "collapsed": false
   },
   "outputs": [
    {
     "name": "stdout",
     "output_type": "stream",
     "text": [
      "term                     36 months\n",
      "int_rate                    10.65%\n",
      "emp_length               10+ years\n",
      "home_ownership                RENT\n",
      "verification_status       Verified\n",
      "purpose                credit_card\n",
      "title                     Computer\n",
      "addr_state                      AZ\n",
      "earliest_cr_line          Jan-1985\n",
      "revol_util                   83.7%\n",
      "last_credit_pull_d        Jul-2016\n",
      "Name: 0, dtype: object\n",
      "(38892, 11)\n"
     ]
    }
   ],
   "source": [
    "object_columns_df = loans.select_dtypes(include=[\"object\"])\n",
    "print(object_columns_df.iloc[0])\n",
    "print(object_columns_df.shape)"
   ]
  },
  {
   "cell_type": "markdown",
   "metadata": {},
   "source": [
    "- home_ownership: home ownership status, can only be 1 of 4 categorical values according to the data dictionary,\n",
    "- verification_status: indicates if income was verified by Lending Club,\n",
    "- emp_length: number of years the borrower was employed upon time of application,\n",
    "- term: number of payments on the loan, either 36 or 60,\n",
    "- addr_state: borrower's state of residence,\n",
    "- purpose: a category provided by the borrower for the loan request,\n",
    "- title: loan title provided the borrower,\n",
    "- int_rate: interest rate of the loan in %,\n",
    "- revol_util: revolving line utilization rate or the amount of credit the borrower is using relative to all available credit.\n",
    "- earliest_cr_line: The month the borrower's earliest reported credit line was opened,\n",
    "- last_credit_pull_d: The most recent month Lending Club pulled credit for this loan.\n",
    "\n",
    "Based on the first row's values for purpose and title, it seems like these columns could reflect the same information. We should explore the unique value counts separately to confirm if this is true.\n",
    "\n",
    "Lastly, some of the columns contain date values that would require a good amount of feature engineering for them to be potentially useful:\n",
    "\n",
    "earliest_cr_line: The month the borrower's earliest reported credit line was opened,\n",
    "last_credit_pull_d: The most recent month Lending Club pulled credit for this loan."
   ]
  },
  {
   "cell_type": "code",
   "execution_count": 13,
   "metadata": {
    "collapsed": false
   },
   "outputs": [
    {
     "name": "stdout",
     "output_type": "stream",
     "text": [
      "RENT        18574\n",
      "MORTGAGE    17216\n",
      "OWN          3003\n",
      "OTHER          96\n",
      "NONE            3\n",
      "Name: home_ownership, dtype: int64\n",
      "Not Verified       16749\n",
      "Verified           12382\n",
      "Source Verified     9761\n",
      "Name: verification_status, dtype: int64\n",
      "10+ years    8621\n",
      "< 1 year     4525\n",
      "2 years      4315\n",
      "3 years      4030\n",
      "4 years      3367\n",
      "5 years      3215\n",
      "1 year       3186\n",
      "6 years      2185\n",
      "7 years      1720\n",
      "8 years      1447\n",
      "9 years      1238\n",
      "n/a          1043\n",
      "Name: emp_length, dtype: int64\n",
      " 36 months    29041\n",
      " 60 months     9851\n",
      "Name: term, dtype: int64\n",
      "CA    6975\n",
      "NY    3727\n",
      "FL    2806\n",
      "TX    2680\n",
      "NJ    1808\n",
      "IL    1495\n",
      "PA    1484\n",
      "VA    1381\n",
      "GA    1370\n",
      "MA    1311\n",
      "OH    1186\n",
      "MD    1031\n",
      "AZ     854\n",
      "WA     827\n",
      "CO     774\n",
      "NC     759\n",
      "CT     733\n",
      "MI     713\n",
      "MO     674\n",
      "MN     605\n",
      "NV     483\n",
      "SC     464\n",
      "WI     444\n",
      "OR     439\n",
      "AL     438\n",
      "LA     431\n",
      "KY     316\n",
      "OK     292\n",
      "KS     261\n",
      "UT     255\n",
      "AR     239\n",
      "DC     210\n",
      "RI     197\n",
      "NM     187\n",
      "WV     173\n",
      "NH     168\n",
      "HI     167\n",
      "DE     113\n",
      "MT      83\n",
      "WY      82\n",
      "AK      79\n",
      "SD      61\n",
      "VT      53\n",
      "MS      19\n",
      "TN      17\n",
      "IN       9\n",
      "ID       6\n",
      "IA       5\n",
      "NE       5\n",
      "ME       3\n",
      "Name: addr_state, dtype: int64\n"
     ]
    }
   ],
   "source": [
    "cols = ['home_ownership', 'verification_status', 'emp_length', 'term', 'addr_state']\n",
    "for col in cols:\n",
    "    print(loans[col].value_counts())"
   ]
  },
  {
   "cell_type": "markdown",
   "metadata": {},
   "source": [
    "The home_ownership, verification_status, emp_length, term, and addr_state columns all contain multiple discrete values. We should clean the emp_length column and treat it as a numerical one since the values have ordering (2 years of employment is less than 8 years).\n",
    "\n",
    "Based on the first row's values for purpose and title, it seems like these columns could reflect the same information. Let's look at the unique value counts for the purpose and title columns to understand which column we want to keep."
   ]
  },
  {
   "cell_type": "code",
   "execution_count": 15,
   "metadata": {
    "collapsed": false
   },
   "outputs": [
    {
     "name": "stdout",
     "output_type": "stream",
     "text": [
      "debt_consolidation    18216\n",
      "credit_card            5054\n",
      "other                  3879\n",
      "home_improvement       2916\n",
      "major_purchase         2164\n",
      "small_business         1779\n",
      "car                    1519\n",
      "wedding                 935\n",
      "medical                 682\n",
      "moving                  578\n",
      "vacation                376\n",
      "house                   371\n",
      "educational             320\n",
      "renewable_energy        103\n",
      "Name: purpose, dtype: int64\n",
      "__________________\n",
      "Debt Consolidation                         2119\n",
      "Debt Consolidation Loan                    1648\n",
      "Personal Loan                               644\n",
      "Consolidation                               497\n",
      "debt consolidation                          490\n",
      "Credit Card Consolidation                   354\n",
      "Home Improvement                            347\n",
      "Debt consolidation                          324\n",
      "Small Business Loan                         312\n",
      "Credit Card Loan                            309\n",
      "Personal                                    302\n",
      "Consolidation Loan                          251\n",
      "Home Improvement Loan                       238\n",
      "personal loan                               227\n",
      "personal                                    214\n",
      "Loan                                        210\n",
      "Wedding Loan                                204\n",
      "Car Loan                                    196\n",
      "consolidation                               194\n",
      "Other Loan                                  182\n",
      "Credit Card Payoff                          151\n",
      "Wedding                                     150\n",
      "Credit Card Refinance                       143\n",
      "Major Purchase Loan                         141\n",
      "Consolidate                                 126\n",
      "Medical                                     120\n",
      "Credit Card                                 115\n",
      "home improvement                            108\n",
      "My Loan                                      92\n",
      "Credit Cards                                 92\n",
      "                                           ... \n",
      "Pay on Credit card                            1\n",
      "Gluten Free Bakery in ideal town for it       1\n",
      "Credit card rate way up.  Please help!        1\n",
      "home improv                                   1\n",
      "DebtConsolidationn                            1\n",
      "CC Debt                                       1\n",
      " Freedom                                      1\n",
      "Credit Card Consolidation Loan - SEG          1\n",
      "Go for Broke                                  1\n",
      "SOLAR PV                                      1\n",
      "To pay off balloon payments due               1\n",
      "Paying off the debt                           1\n",
      "cart loan                                     1\n",
      "Baby on the way!                              1\n",
      "2BDebtFree                                    1\n",
      "Medical/Vacation                              1\n",
      "consolidate the rest of my debt               1\n",
      "vinman                                        1\n",
      "getting ready for Baby                        1\n",
      "Cut the credit cards Loan                     1\n",
      "engagement                                    1\n",
      "swimming pool repair                          1\n",
      "LC Loan 2                                     1\n",
      "Dougs Wedding Loan                            1\n",
      "FundToFinanceCar                              1\n",
      "refinance loan                                1\n",
      "bank of america loan                          1\n",
      "Adding HVAC and Bedrooms to Rental Prop       1\n",
      "Debt Consolidation HSBC DFS                   1\n",
      "Consolidaton                                  1\n",
      "Name: title, dtype: int64\n"
     ]
    }
   ],
   "source": [
    "print(loans[\"purpose\"].value_counts())\n",
    "print(\"__________________\")\n",
    "print(loans[\"title\"].value_counts())"
   ]
  },
  {
   "cell_type": "markdown",
   "metadata": {},
   "source": [
    "The home_ownership, verification_status, emp_length, and term columns each contain a few discrete categorical values. We will encode these columns as dummy variables and keep them.\n",
    "\n",
    "It seems like the purpose and title columns do contain overlapping information but we'll keep the purpose column since it contains a few discrete values. In addition, the title column has data quality issues since many of the values are repeated with slight modifications (e.g. Debt Consolidation and Debt Consolidation Loan and debt consolidation).\n",
    "\n",
    "Lastly, the addr_state column contains many discrete values and we'd need to add 49 dummy variable columns to use it for classification. This would make our Dataframe much larger and could slow down how quickly the code runs. Let's remove this column from consideration.\n",
    "\n"
   ]
  },
  {
   "cell_type": "code",
   "execution_count": 16,
   "metadata": {
    "collapsed": true
   },
   "outputs": [],
   "source": [
    "mapping_dict = {\n",
    "    \"emp_length\": {\n",
    "        \"10+ years\": 10,\n",
    "        \"9 years\": 9,\n",
    "        \"8 years\": 8,\n",
    "        \"7 years\": 7,\n",
    "        \"6 years\": 6,\n",
    "        \"5 years\": 5,\n",
    "        \"4 years\": 4,\n",
    "        \"3 years\": 3,\n",
    "        \"2 years\": 2,\n",
    "        \"1 year\": 1,\n",
    "        \"< 1 year\": 0,\n",
    "        \"n/a\": 0\n",
    "    }\n",
    "}\n",
    "\n",
    "loans = loans.drop([\"last_credit_pull_d\", \"earliest_cr_line\", \"addr_state\", \"title\"], axis=1)\n",
    "loans[\"int_rate\"] = loans[\"int_rate\"].str.rstrip(\"%\").astype(\"float\")\n",
    "loans[\"revol_util\"] = loans[\"revol_util\"].str.rstrip(\"%\").astype(\"float\")\n",
    "loans = loans.replace(mapping_dict)"
   ]
  },
  {
   "cell_type": "markdown",
   "metadata": {},
   "source": [
    "We erred on the side of being conservative with the 10+ years, < 1 year and n/a mappings. We assume that people who may have been working more than 10 years have only really worked for 10 years. We also assume that people who've worked less than a year or if the information is not available that they've worked for 0. This is a general heuristic but it's not perfect."
   ]
  },
  {
   "cell_type": "markdown",
   "metadata": {},
   "source": [
    "Let's now encode the home_ownership, verification_status, title, and term columns as dummy variables so we can use them in our model."
   ]
  },
  {
   "cell_type": "code",
   "execution_count": 17,
   "metadata": {
    "collapsed": true
   },
   "outputs": [],
   "source": [
    "cat_columns = [\"home_ownership\", \"verification_status\", \"purpose\", \"term\"]\n",
    "dummy_df = pd.get_dummies(loans[cat_columns])\n",
    "loans= pd.concat([loans, dummy_df], axis=1)\n",
    "loans = loans.drop(cat_columns, axis=1)"
   ]
  },
  {
   "cell_type": "code",
   "execution_count": 18,
   "metadata": {
    "collapsed": false
   },
   "outputs": [
    {
     "name": "stdout",
     "output_type": "stream",
     "text": [
      "<class 'pandas.core.frame.DataFrame'>\n",
      "Int64Index: 38892 entries, 0 to 39785\n",
      "Data columns (total 38 columns):\n",
      "loan_amnt                              38892 non-null float64\n",
      "int_rate                               38892 non-null float64\n",
      "installment                            38892 non-null float64\n",
      "emp_length                             38892 non-null int64\n",
      "annual_inc                             38892 non-null float64\n",
      "loan_status                            38892 non-null int64\n",
      "dti                                    38892 non-null float64\n",
      "delinq_2yrs                            38892 non-null float64\n",
      "inq_last_6mths                         38892 non-null float64\n",
      "open_acc                               38892 non-null float64\n",
      "pub_rec                                38892 non-null float64\n",
      "revol_bal                              38892 non-null float64\n",
      "revol_util                             38892 non-null float64\n",
      "total_acc                              38892 non-null float64\n",
      "home_ownership_MORTGAGE                38892 non-null float64\n",
      "home_ownership_NONE                    38892 non-null float64\n",
      "home_ownership_OTHER                   38892 non-null float64\n",
      "home_ownership_OWN                     38892 non-null float64\n",
      "home_ownership_RENT                    38892 non-null float64\n",
      "verification_status_Not Verified       38892 non-null float64\n",
      "verification_status_Source Verified    38892 non-null float64\n",
      "verification_status_Verified           38892 non-null float64\n",
      "purpose_car                            38892 non-null float64\n",
      "purpose_credit_card                    38892 non-null float64\n",
      "purpose_debt_consolidation             38892 non-null float64\n",
      "purpose_educational                    38892 non-null float64\n",
      "purpose_home_improvement               38892 non-null float64\n",
      "purpose_house                          38892 non-null float64\n",
      "purpose_major_purchase                 38892 non-null float64\n",
      "purpose_medical                        38892 non-null float64\n",
      "purpose_moving                         38892 non-null float64\n",
      "purpose_other                          38892 non-null float64\n",
      "purpose_renewable_energy               38892 non-null float64\n",
      "purpose_small_business                 38892 non-null float64\n",
      "purpose_vacation                       38892 non-null float64\n",
      "purpose_wedding                        38892 non-null float64\n",
      "term_ 36 months                        38892 non-null float64\n",
      "term_ 60 months                        38892 non-null float64\n",
      "dtypes: float64(36), int64(2)\n",
      "memory usage: 11.6 MB\n",
      "None\n"
     ]
    }
   ],
   "source": [
    "print(loans.info())"
   ]
  },
  {
   "cell_type": "markdown",
   "metadata": {},
   "source": [
    "So our objective here is to answer the question: Can we build a machine learning model that can accurately predict if a borrower will pay off their loan on time or not? \n",
    "The approach we will choose here is we will model this problem as a binary classification problem, where 0 means the borrower doesn't pay back on time and 1 meaning the borrower does pay on time.\n",
    "\n",
    "Now we need to find an error metric, an error metric will tell us how our alogirthm is performing and how we can improve it.\n",
    "Our objective in this is to make money -- we want to fund enough loans that are paid off on time to offset our losses from loans that aren't paid off. An error metric will help us determine if our algorithm will make us money or lose us money.\n",
    "\n",
    "In this case, we're primarily concerned with false positives and false negatives. Both of these are different types of misclassifications. With a false positive, we predict that a loan will be paid off on time, but it actually isn't. This costs us money, since we fund loans that lose us money. With a false negative, we predict that a loan won't be paid off on time, but it actually would be paid off on time. This loses us potential money, since we didn't fund a loan that actually would have been paid off.\n",
    "\n",
    "Since we're viewing this problem from the standpoint of a conservative investor, we need to treat false positives differently than false negatives. A conservative investor would want to minimize risk, and avoid false positives as much as possible. It's better to miss an opportunity (false negatives) than funding a risky loan (false positives).\n",
    "\n",
    "let's say we've correctly identified loan_status in 85.7% of cases. However, we've done this by predicting 1 for every row. What this means is that we'll actually lose money. Let's say we loan out 1000 dollars on average to each borrower. Each borrower pays us 10% interest back. So we make a projected profit of 100 dollars on each loan. But we lose 1000 on one. Therefore we lose money.\n",
    "\n",
    "That means that in this case, we don't want to use accuracy (number of correct predictions), and should instead use metrics that tell us the number of false positives and false negatives.\n",
    "\n",
    "This means that we should optimize for:\n",
    "\n",
    "high recall (true positive rate) what percentage of loans that could be funded would I fund?\n",
    "low fall-out (false positive rate) what percentage of the loans that I fund would not be repaid?\n"
   ]
  },
  {
   "cell_type": "markdown",
   "metadata": {},
   "source": [
    "Into machine learning! The first algorithm we will try is logistic regression: \n",
    "- it's quick to train and we can iterate more quickly,\n",
    "- it's less prone to overfitting than more complex models like decision trees,\n",
    "- it's easy to interpret."
   ]
  },
  {
   "cell_type": "code",
   "execution_count": 23,
   "metadata": {
    "collapsed": true
   },
   "outputs": [],
   "source": [
    "from sklearn.linear_model import LogisticRegression\n",
    "lr = LogisticRegression()\n",
    "cols = loans.columns\n",
    "train_cols = cols.drop(\"loan_status\")\n",
    "features = loans[train_cols]\n",
    "target = loans[\"loan_status\"]\n",
    "lr.fit(features, target)\n",
    "predictions = lr.predict(features)\n"
   ]
  },
  {
   "cell_type": "code",
   "execution_count": 34,
   "metadata": {
    "collapsed": false
   },
   "outputs": [
    {
     "name": "stdout",
     "output_type": "stream",
     "text": [
      "0.998647402398\n"
     ]
    }
   ],
   "source": [
    "fp_filter = (predictions == 1) & (loans[\"loan_status\"] == 0)\n",
    "fp = len(predictions[fp_filter])\n",
    "\n",
    "# True negatives\n",
    "tn_filter = (predictions == 0) & (loans[\"loan_status\"] == 0)\n",
    "tn = len(predictions[tn_filter])\n",
    "\n",
    "fpr = fp/(fp+tn)\n",
    "\n",
    "# True positives.\n",
    "tp_filter = (predictions == 1) & (loans[\"loan_status\"] == 1)\n",
    "tp = len(predictions[tp_filter])\n",
    "\n",
    "# False negatives.\n",
    "fn_filter = (predictions == 0) & (loans[\"loan_status\"] == 1)\n",
    "fn = len(predictions[fn_filter])\n",
    "\n",
    "tpr = tp/(float)(tp+fn)\n",
    "\n",
    "print(tpr)"
   ]
  },
  {
   "cell_type": "markdown",
   "metadata": {},
   "source": [
    "Cross validation splits the dataset into groups, then makes predictions on each group using the other groups as training data. This ensures that we don't overfit by generating predictions on the same data that we train our algorithm with."
   ]
  },
  {
   "cell_type": "code",
   "execution_count": 33,
   "metadata": {
    "collapsed": false
   },
   "outputs": [
    {
     "name": "stdout",
     "output_type": "stream",
     "text": [
      "32486\n",
      "5466\n",
      "44\n",
      "7\n",
      "0.998647402398\n",
      "0.99872099397\n"
     ]
    }
   ],
   "source": [
    "from sklearn.linear_model import LogisticRegression\n",
    "from sklearn.cross_validation import cross_val_predict, KFold\n",
    "lr = LogisticRegression()\n",
    "kf = KFold(features.shape[0], random_state=1)\n",
    "predictions = cross_val_predict(lr, features, target, cv=kf)\n",
    "predictions = pd.Series(predictions)\n",
    "\n",
    "# False positives.\n",
    "fp_filter = (predictions == 1) & (loans[\"loan_status\"] == 0)\n",
    "fp = len(predictions[fp_filter])\n",
    "\n",
    "# True positives.\n",
    "tp_filter = (predictions == 1) & (loans[\"loan_status\"] == 1)\n",
    "tp = len(predictions[tp_filter])\n",
    "\n",
    "# False negatives.\n",
    "fn_filter = (predictions == 0) & (loans[\"loan_status\"] == 1)\n",
    "fn = len(predictions[fn_filter])\n",
    "\n",
    "# True negatives\n",
    "tn_filter = (predictions == 0) & (loans[\"loan_status\"] == 0)\n",
    "tn = len(predictions[tn_filter])\n",
    "\n",
    "# Rates\n",
    "tpr = tp / (float)(tp + fn)\n",
    "fpr = fp / (float)(fp + tn)\n",
    "\n",
    "print(tpr)\n",
    "print(fpr)"
   ]
  },
  {
   "cell_type": "markdown",
   "metadata": {},
   "source": [
    "It looks like our classifier works really well but if the model was predicting all ones we would get the same result. This is because of the imbalance of the classes. There are 6 times as many loans that were paid off on time (1), than loans that weren't paid off on time (0). This causes a major issue when we use accuracy as a metric. This is because due to the class imbalance, a classifier can predict 1 for every row, and still have high accuracy. Also our model will tend to predict more towards 1 than what it should really be.\n",
    "\n",
    "The two main ways two approeach class imablance are:\n",
    "\n",
    "- Use oversampling and undersampling to ensure that the classifier gets input that has a balanced number of each class.\n",
    "- Tell the classifier to penalize misclassifications of the less prevalent class more than the other class. t\n",
    "\n",
    "The first method tries to force the rows so we have the same number of classes either by throwing out many rows of data.\n",
    "Copy rows multiple times or generate fake data. In our case neither of this is a good idea.\n",
    "\n",
    "Instead we are going to do the second approach the penalty means that the logistic regression classifier pays more attention to correctly classifying rows where loan_status is 0. This lowers accuracy when loan_status is 1, but raises accuracy when loan_status is 0.\n",
    "\n",
    "And it's very easy to do with scikit"
   ]
  },
  {
   "cell_type": "code",
   "execution_count": 36,
   "metadata": {
    "collapsed": false
   },
   "outputs": [
    {
     "name": "stdout",
     "output_type": "stream",
     "text": [
      "0.629757147249\n",
      "0.63073268774\n"
     ]
    }
   ],
   "source": [
    "lr = LogisticRegression(class_weight=\"balanced\")\n",
    "kf = KFold(features.shape[0], random_state=1)\n",
    "\n",
    "predictions = cross_val_predict(lr, features, target, cv=kf)\n",
    "predictions = pd.Series(predictions)\n",
    "\n",
    "# False positives.\n",
    "fp_filter = (predictions == 1) & (loans[\"loan_status\"] == 0)\n",
    "fp = len(predictions[fp_filter])\n",
    "\n",
    "# True positives.\n",
    "tp_filter = (predictions == 1) & (loans[\"loan_status\"] == 1)\n",
    "tp = len(predictions[tp_filter])\n",
    "\n",
    "# False negatives.\n",
    "fn_filter = (predictions == 0) & (loans[\"loan_status\"] == 1)\n",
    "fn = len(predictions[fn_filter])\n",
    "\n",
    "# True negatives\n",
    "tn_filter = (predictions == 0) & (loans[\"loan_status\"] == 0)\n",
    "tn = len(predictions[tn_filter])\n",
    "\n",
    "# Rates\n",
    "tpr = tp / (float)(tp + fn)\n",
    "fpr = fp / (float)(fp + tn)\n",
    "\n",
    "print(tpr)\n",
    "print(fpr)"
   ]
  },
  {
   "cell_type": "markdown",
   "metadata": {},
   "source": [
    "Let's try a more complex algorithm. Random forests.\n"
   ]
  },
  {
   "cell_type": "code",
   "execution_count": 41,
   "metadata": {
    "collapsed": false
   },
   "outputs": [
    {
     "name": "stdout",
     "output_type": "stream",
     "text": [
      "0.970273593606\n",
      "0.966563128083\n"
     ]
    }
   ],
   "source": [
    "from sklearn.ensemble import RandomForestClassifier\n",
    "from sklearn.cross_validation import cross_val_predict\n",
    "rf = RandomForestClassifier(class_weight=\"balanced\", random_state=1)\n",
    "kf = KFold(features.shape[0], random_state=1)\n",
    "predictions = cross_val_predict(rf, features, target, cv=kf)\n",
    "predictions = pd.Series(predictions)\n",
    "\n",
    "# False positives.\n",
    "fp_filter = (predictions == 1) & (loans[\"loan_status\"] == 0)\n",
    "fp = len(predictions[fp_filter])\n",
    "\n",
    "# True positives.\n",
    "tp_filter = (predictions == 1) & (loans[\"loan_status\"] == 1)\n",
    "tp = len(predictions[tp_filter])\n",
    "\n",
    "# False negatives.\n",
    "fn_filter = (predictions == 0) & (loans[\"loan_status\"] == 1)\n",
    "fn = len(predictions[fn_filter])\n",
    "\n",
    "# True negatives\n",
    "tn_filter = (predictions == 0) & (loans[\"loan_status\"] == 0)\n",
    "tn = len(predictions[tn_filter])\n",
    "\n",
    "# Rates\n",
    "tpr = tp / (float)(tp + fn)\n",
    "fpr = fp / (float)(fp + tn)\n",
    "\n",
    "print(tpr)\n",
    "print(fpr)"
   ]
  },
  {
   "cell_type": "code",
   "execution_count": null,
   "metadata": {
    "collapsed": true
   },
   "outputs": [],
   "source": []
  }
 ],
 "metadata": {
  "kernelspec": {
   "display_name": "Python 2",
   "language": "python",
   "name": "python2"
  },
  "language_info": {
   "codemirror_mode": {
    "name": "ipython",
    "version": 2
   },
   "file_extension": ".py",
   "mimetype": "text/x-python",
   "name": "python",
   "nbconvert_exporter": "python",
   "pygments_lexer": "ipython2",
   "version": "2.7.11"
  }
 },
 "nbformat": 4,
 "nbformat_minor": 0
}
